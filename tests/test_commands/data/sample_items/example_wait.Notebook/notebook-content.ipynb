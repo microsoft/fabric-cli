{
    "cells": [
        {
            "cell_type": "code",
            "execution_count": null,
            "metadata": {
                "microsoft": {
                    "language": "python",
                    "language_group": "synapse_pyspark"
                }
            },
            "outputs": [],
            "source": [
                "# Welcome to your new notebook\n",
                "# Type here in the cell editor to add code!\n",
                "from time import sleep\n",
                "sleep(120)"
            ]
        }
    ],
    "metadata": {
        "dependencies": {},
        "kernel_info": {
            "name": "synapse_pyspark"
        },
        "language_info": {
            "name": "python"
        },
        "microsoft": {
            "language": "python",
            "language_group": "synapse_pyspark",
            "ms_spell_check": {
                "ms_spell_check_language": "en"
            }
        },
        "nteract": {
            "version": "nteract-front-end@1.0.0"
        },
        "spark_compute": {
            "compute_id": "/trident/default",
            "session_options": {
                "conf": {
                    "spark.synapse.nbs.session.timeout": "1200000"
                }
            }
        }
    },
    "nbformat": 4,
    "nbformat_minor": 5
}
