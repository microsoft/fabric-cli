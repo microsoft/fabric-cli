{
    "cells": [
        {
            "cell_type": "code",
            "execution_count": null,
            "metadata": {
                "cellStatus": "{}",
                "microsoft": {
                    "language": "python",
                    "language_group": "synapse_pyspark"
                }
            },
            "outputs": [],
            "source": [
                "# Welcome to your new notebook\n",
                "# Type here in the cell editor to add code!\n",
                "\n",
                "import random\n",
                "\n",
                "customers = [\n",
                "    {\"name\": \"User Name 1\", \"account_id\": 1000, \"loyalty_points\" : random.randint(400, 800)},\n",
                "    {\"name\": \"User Name 2\", \"account_id\": 1001, \"loyalty_points\" : random.randint(400, 800)},\n",
                "    {\"name\": \"User Name 3\", \"account_id\": 1002, \"loyalty_points\" : random.randint(400, 800)},\n",
                "    {\"name\": \"User Name 4\", \"account_id\": 1003, \"loyalty_points\" : random.randint(400, 800)},\n",
                "    {\"name\": \"User Name 5\", \"account_id\": 1004, \"loyalty_points\" : random.randint(400, 800)},\n",
                "    {\"name\": \"User Name 6\", \"account_id\": 1005, \"loyalty_points\" : random.randint(400, 800)},\n",
                "    {\"name\": \"User Name 7\", \"account_id\": 1006, \"loyalty_points\" : random.randint(400, 800)},\n",
                "    {\"name\": \"User Name 8\", \"account_id\": 1007, \"loyalty_points\" : random.randint(400, 800)},\n",
                "    {\"name\": \"User Name 9\", \"account_id\": 1008, \"loyalty_points\" : random.randint(400, 800)},\n",
                "    {\"name\": \"User Name 10\", \"account_id\": 1009, \"loyalty_points\" : random.randint(400, 800)},\n",
                "    {\"name\": \"User Name 11\", \"account_id\": 1010, \"loyalty_points\" : random.randint(400, 800)},\n",
                "]\n",
                "\n",
                "products = [\n",
                "    {\"id\": 1000, \"name\": \"Product Name 1\", \"stock\": random.randint(0,50)},\n",
                "    {\"id\": 1001, \"name\": \"Product Name 2\", \"stock\": random.randint(0,50)},\n",
                "    {\"id\": 1002, \"name\": \"Product Name 3\", \"stock\": random.randint(0,50)},\n",
                "    {\"id\": 1003, \"name\": \"Product Name 4\", \"stock\": random.randint(0,50)},\n",
                "    {\"id\": 1004, \"name\": \"Product Name 5\", \"stock\": random.randint(0,50)},\n",
                "    {\"id\": 1005, \"name\": \"Product Name 6\", \"stock\": random.randint(0,50)},\n",
                "    {\"id\": 1006, \"name\": \"Product Name 7\", \"stock\": random.randint(0,50)},\n",
                "    {\"id\": 1007, \"name\": \"Product Name 8\", \"stock\": random.randint(0,50)},\n",
                "    {\"id\": 1008, \"name\": \"Product Name 9\",\"stock\": random.randint(0,50)},\n",
                "    {\"id\": 1100, \"name\": \"Product Name 10\", \"stock\": random.randint(0,50)},\n",
                "    {\"id\": 1101, \"name\": \"Product Name 11\", \"stock\": random.randint(0,50)},\n",
                "    {\"id\": 1102, \"name\": \"Product Name 12\", \"stock\": random.randint(0,50)},\n",
                "    {\"id\": 1103, \"name\": \"Product Name 13\", \"stock\": random.randint(0,50)},\n",
                "    {\"id\": 1104, \"name\": \"Product Name 14\", \"stock\": random.randint(0,50)},\n",
                "    {\"id\": 1105, \"name\": \"Product Name 15\", \"stock\": random.randint(0,50)},\n",
                "    {\"id\": 1106, \"name\": \"Product Name 16\", \"stock\": random.randint(0,50)},\n",
                "    {\"id\": 1107, \"name\": \"Product Name 17\", \"stock\": random.randint(0,50)},\n",
                "    {\"id\": 1108, \"name\": \"Product Name 18\", \"stock\": random.randint(0,50)},\n",
                "    {\"id\": 1109, \"name\": \"Product Name 19\", \"stock\": random.randint(0,50)},\n",
                "]\n",
                "orders = [\n",
                "    {\"order_id\": 1000, \"product_id\": 1001, \"days_to_delivery\": random.randint(3,15), \"account_id\": 1000},\n",
                "    {\"order_id\": 1001, \"product_id\": 1001, \"days_to_delivery\": random.randint(3,15), \"account_id\": 1001},\n",
                "    {\"order_id\": 1002, \"product_id\": 1002, \"days_to_delivery\": random.randint(3,15), \"account_id\": 1002},\n",
                "    {\"order_id\": 1003, \"product_id\": 1003, \"days_to_delivery\": random.randint(3,15), \"account_id\": 1003},\n",
                "    {\"order_id\": 1004, \"product_id\": 1004, \"days_to_delivery\": random.randint(3,15), \"account_id\": 1004},\n",
                "    {\"order_id\": 1005, \"product_id\": 1005, \"days_to_delivery\": random.randint(3,15), \"account_id\": 1005},\n",
                "    {\"order_id\": 1006, \"product_id\": 1006, \"days_to_delivery\": random.randint(3,15), \"account_id\": 1006},\n",
                "    {\"order_id\": 1007, \"product_id\": 1007, \"days_to_delivery\": random.randint(3,15), \"account_id\": 1007},\n",
                "    {\"order_id\": 1008, \"product_id\": 1008, \"days_to_delivery\": random.randint(3,15), \"account_id\": 1008},\n",
                "    {\"order_id\": 1010, \"product_id\": 1000, \"days_to_delivery\": random.randint(3,15), \"account_id\": 1009},\n",
                "    {\"order_id\": 1012, \"product_id\": 1101, \"days_to_delivery\": random.randint(3,15), \"account_id\": 1001},\n",
                "    {\"order_id\": 1013, \"product_id\": 1102, \"days_to_delivery\": random.randint(3,15), \"account_id\": 1002},\n",
                "    {\"order_id\": 1014, \"product_id\": 1103, \"days_to_delivery\": random.randint(3,15), \"account_id\": 1003},\n",
                "    {\"order_id\": 1015, \"product_id\": 1104, \"days_to_delivery\": random.randint(3,15), \"account_id\": 1004},\n",
                "    {\"order_id\": 1016, \"product_id\": 1105, \"days_to_delivery\": random.randint(3,15), \"account_id\": 1005},\n",
                "    {\"order_id\": 1017, \"product_id\": 1106, \"days_to_delivery\": random.randint(3,15), \"account_id\": 1006},\n",
                "    {\"order_id\": 1018, \"product_id\": 1107, \"days_to_delivery\": random.randint(3,15), \"account_id\": 1007},\n",
                "    {\"order_id\": 1019, \"product_id\": 1108, \"days_to_delivery\": random.randint(3,15), \"account_id\": 1008},\n",
                "]"
            ]
        },
        {
            "cell_type": "code",
            "execution_count": null,
            "metadata": {
                "cellStatus": "{}",
                "jupyter": {
                    "outputs_hidden": false,
                    "source_hidden": false
                },
                "microsoft": {
                    "language": "python",
                    "language_group": "synapse_pyspark"
                },
                "nteract": {
                    "transient": {
                        "deleting": false
                    }
                }
            },
            "outputs": [],
            "source": [
                "spark.catalog.currentDatabase()"
            ]
        },
        {
            "cell_type": "code",
            "execution_count": null,
            "metadata": {
                "cellStatus": "{}",
                "jupyter": {
                    "outputs_hidden": false,
                    "source_hidden": false
                },
                "microsoft": {
                    "language": "python",
                    "language_group": "synapse_pyspark"
                },
                "nteract": {
                    "transient": {
                        "deleting": false
                    }
                }
            },
            "outputs": [],
            "source": [
                "spark.createDataFrame(customers).write.saveAsTable(\"customers\")"
            ]
        },
        {
            "cell_type": "code",
            "execution_count": null,
            "metadata": {
                "cellStatus": "{}",
                "jupyter": {
                    "outputs_hidden": false,
                    "source_hidden": false
                },
                "microsoft": {
                    "language": "python",
                    "language_group": "synapse_pyspark"
                },
                "nteract": {
                    "transient": {
                        "deleting": false
                    }
                }
            },
            "outputs": [],
            "source": [
                "spark.createDataFrame(products).write.saveAsTable(\"products\")"
            ]
        },
        {
            "cell_type": "code",
            "execution_count": null,
            "metadata": {
                "cellStatus": "{}",
                "jupyter": {
                    "outputs_hidden": false,
                    "source_hidden": false
                },
                "microsoft": {
                    "language": "python",
                    "language_group": "synapse_pyspark"
                },
                "nteract": {
                    "transient": {
                        "deleting": false
                    }
                }
            },
            "outputs": [],
            "source": [
                "spark.createDataFrame(orders).write.saveAsTable(\"orders\")"
            ]
        },
        {
            "cell_type": "code",
            "execution_count": null,
            "metadata": {
                "cellStatus": "{}",
                "jupyter": {
                    "outputs_hidden": false,
                    "source_hidden": false
                },
                "microsoft": {
                    "language": "python",
                    "language_group": "synapse_pyspark"
                },
                "nteract": {
                    "transient": {
                        "deleting": false
                    }
                }
            },
            "outputs": [],
            "source": [
                "display(spark.table(\"customers\"))"
            ]
        }
    ],
    "metadata": {
        "dependencies": {
            "lakehouse": {
                "default_lakehouse": "<lakehouse_id>",
                "default_lakehouse_name": "<lakehouse_display_name>",
                "default_lakehouse_workspace_id": "<workspace_id>"
            }
        },
        "kernel_info": {
            "name": "synapse_pyspark"
        },
        "kernelspec": {
            "display_name": "Synapse PySpark",
            "language": "Python",
            "name": "synapse_pyspark"
        },
        "language_info": {
            "name": "python"
        },
        "microsoft": {
            "language": "python",
            "language_group": "synapse_pyspark",
            "ms_spell_check": {
                "ms_spell_check_language": "en"
            }
        },
        "nteract": {
            "version": "nteract-front-end@1.0.0"
        },
        "spark_compute": {
            "compute_id": "/trident/default",
            "session_options": {
                "conf": {
                    "spark.synapse.nbs.session.timeout": "1200000"
                }
            }
        },
        "widgets": {}
    },
    "nbformat": 4,
    "nbformat_minor": 5
}
